{
 "cells": [
  {
   "cell_type": "markdown",
   "source": [
    "# Hall of Shame\n",
    "\n",
    "This notebook is a simple analysis of the worst players in the game.\n",
    "\n",
    "Get the below data:\n",
    "- Long match duration\n",
    "- High death count\n",
    "- High death per minute\n",
    "- Low win rate"
   ],
   "metadata": {
    "collapsed": false
   },
   "id": "17942dbffd797a7d"
  },
  {
   "cell_type": "code",
   "execution_count": null,
   "outputs": [],
   "source": [
    "from tqdm import tqdm\n",
    "from json import loads"
   ],
   "metadata": {
    "collapsed": false,
    "is_executing": true
   },
   "id": "initial_id"
  },
  {
   "cell_type": "markdown",
   "source": [
    "## Set up parameters"
   ],
   "metadata": {
    "collapsed": false
   },
   "id": "802d130a195e2cb1"
  },
  {
   "cell_type": "code",
   "execution_count": null,
   "outputs": [],
   "source": [
    "minimum_matches = 50\n",
    "n_worsts = 50\n",
    "raw_data = \"./raw_matches_2024_0710.csv\"\n",
    "output_dir = \"./study\"\n",
    "date = \"20240911\"\n",
    "chunk_size = 20000"
   ],
   "metadata": {
    "collapsed": false
   },
   "id": "35944d3ccb6d22c9"
  },
  {
   "cell_type": "markdown",
   "source": [
    "## Load the raw data and create a dataframe"
   ],
   "metadata": {
    "collapsed": false
   },
   "id": "1cc9ea8998b1679e"
  },
  {
   "cell_type": "code",
   "execution_count": null,
   "outputs": [],
   "source": [
    "dfs = pd.read_csv(raw_data, chunksize=chunk_size)"
   ],
   "metadata": {
    "collapsed": false
   },
   "id": "5afe89e0348b9fd0"
  },
  {
   "cell_type": "code",
   "execution_count": null,
   "outputs": [],
   "source": [
    "data = []\n",
    "for df in dfs:\n",
    "    for match in tqdm(df.match_data):\n",
    "        info = loads(match)[\"info\"]\n",
    "        for part in info[\"participants\"]:\n",
    "            data.append(\n",
    "                [\n",
    "                    info[\"gameDuration\"],\n",
    "                    part[\"deaths\"],\n",
    "                    part[\"summonerName\"],\n",
    "                    part[\"summonerId\"],\n",
    "                    part[\"win\"],\n",
    "                ]\n",
    "            )\n",
    "user_df = pd.DataFrame(data, columns=[\"duration\", \"death\", \"name\", \"id\", \"win\"])\n",
    "user_df.to_csv(f\"{output_dir}/{date}-user.csv\", index=False)"
   ],
   "metadata": {
    "collapsed": false
   },
   "id": "aaf04d5d527bff64"
  },
  {
   "cell_type": "markdown",
   "source": [
    "## Filter out the users with less than 50 matches"
   ],
   "metadata": {
    "collapsed": false
   },
   "id": "5e997afafb450b0d"
  },
  {
   "cell_type": "code",
   "execution_count": null,
   "outputs": [],
   "source": [
    "ids = user_df.id.value_counts() > 50\n",
    "valid_ids = ids[ids.values].index\n",
    "valid_df = user_df[user_df.id.isin(valid_ids)]"
   ],
   "metadata": {
    "collapsed": false
   },
   "id": "c8a8c4f090c2f99"
  },
  {
   "cell_type": "markdown",
   "source": [
    "## Get the name of the summoner"
   ],
   "metadata": {
    "collapsed": false
   },
   "id": "73c22199526b2b34"
  },
  {
   "cell_type": "code",
   "execution_count": null,
   "outputs": [],
   "source": [
    "name_df = (\n",
    "    user_df[[\"name\", \"id\"]]\n",
    "    .drop_duplicates(\n",
    "        subset=\"id\",\n",
    "        keep=\"last\",\n",
    "    )\n",
    "    .reset_index(drop=True)\n",
    ")\n",
    "name_map = name_df.set_index(\"id\").to_dict(orient=\"dict\")[\"name\"]"
   ],
   "metadata": {
    "collapsed": false
   },
   "id": "8a2ec3558989ba49"
  },
  {
   "cell_type": "markdown",
   "source": [
    "## Get the mean of the data and calculate the death per minute"
   ],
   "metadata": {
    "collapsed": false
   },
   "id": "46e1763a50b85c19"
  },
  {
   "cell_type": "code",
   "execution_count": null,
   "outputs": [],
   "source": [
    "mean_df = valid_df.groupby([\"id\"])[[\"death\", \"duration\", \"win\"]].apply(\"mean\")\n",
    "mean_df[\"death_per_min\"] = mean_df.death * 60 / mean_df.duration\n",
    "columns = [\"death\", \"death_per_min\", \"duration\", \"win\"]"
   ],
   "metadata": {
    "collapsed": false
   },
   "id": "17ec86ef69476c81"
  },
  {
   "cell_type": "markdown",
   "source": [
    "## Get the top... worst (:<) players for each column"
   ],
   "metadata": {
    "collapsed": false
   },
   "id": "3ad5d44bedda91f1"
  },
  {
   "cell_type": "code",
   "execution_count": null,
   "outputs": [],
   "source": [
    "count_df = valid_df.groupby([\"id\"]).count()\n",
    "mean_df[\"n_matches\"] = count_df.win\n",
    "descending = [\"win\"]\n",
    "for col in columns:\n",
    "    rank_df = (\n",
    "        mean_df.sort_values(by=[col], ascending=col in descending)\n",
    "        .reset_index()[[col, \"n_matches\", \"id\"]]\n",
    "        .iloc[:n_worsts]\n",
    "    )\n",
    "    rank_df[\"name\"] = rank_df.id.map(name_map)\n",
    "    rank_df[[\"name\", col, \"n_matches\"]].to_csv(\n",
    "        f\"{output_dir}/{date}-{col}.csv\", index=False\n",
    "    )"
   ],
   "metadata": {
    "collapsed": false
   },
   "id": "25b9b08bd4d5a2e2"
  }
 ],
 "metadata": {
  "kernelspec": {
   "display_name": "Python 3",
   "language": "python",
   "name": "python3"
  },
  "language_info": {
   "codemirror_mode": {
    "name": "ipython",
    "version": 2
   },
   "file_extension": ".py",
   "mimetype": "text/x-python",
   "name": "python",
   "nbconvert_exporter": "python",
   "pygments_lexer": "ipython2",
   "version": "2.7.6"
  }
 },
 "nbformat": 4,
 "nbformat_minor": 5
}
